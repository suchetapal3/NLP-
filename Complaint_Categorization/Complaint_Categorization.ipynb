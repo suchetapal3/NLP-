{
  "nbformat": 4,
  "nbformat_minor": 0,
  "metadata": {
    "colab": {
      "name": "Complaint_Categorization.ipynb",
      "provenance": [],
      "collapsed_sections": []
    },
    "kernelspec": {
      "name": "python3",
      "display_name": "Python 3"
    },
    "language_info": {
      "name": "python"
    },
    "accelerator": "GPU"
  },
  "cells": [
    {
      "cell_type": "code",
      "execution_count": 1,
      "metadata": {
        "colab": {
          "base_uri": "https://localhost:8080/"
        },
        "id": "VafL-gZ7y3tx",
        "outputId": "ec0f89f7-93e7-4c28-d945-2aa8bd0c962c"
      },
      "outputs": [
        {
          "output_type": "stream",
          "name": "stdout",
          "text": [
            "Mounted at /gdrive\n"
          ]
        }
      ],
      "source": [
        "from google.colab import drive\n",
        "drive.mount('/gdrive')"
      ]
    },
    {
      "cell_type": "code",
      "source": [
        "from sklearn.feature_extraction.text import TfidfVectorizer\n",
        "from sklearn.model_selection import train_test_split\n",
        "\n",
        "import pandas as pd"
      ],
      "metadata": {
        "id": "qm36TKLA0Ow2"
      },
      "execution_count": 2,
      "outputs": []
    },
    {
      "cell_type": "code",
      "source": [
        "df =  pd.read_csv('/gdrive/MyDrive/NLP/complaints.csv')"
      ],
      "metadata": {
        "id": "d0d5KTam1PZH"
      },
      "execution_count": 4,
      "outputs": []
    },
    {
      "cell_type": "code",
      "source": [
        "df.head()"
      ],
      "metadata": {
        "colab": {
          "base_uri": "https://localhost:8080/",
          "height": 206
        },
        "id": "9HKTDFnR1Zzc",
        "outputId": "6faec04c-1331-43bc-93ba-7dc804249b79"
      },
      "execution_count": 5,
      "outputs": [
        {
          "output_type": "execute_result",
          "data": {
            "text/html": [
              "\n",
              "  <div id=\"df-59dc610e-d2c2-4dbb-affe-a60eb7c2fbc0\">\n",
              "    <div class=\"colab-df-container\">\n",
              "      <div>\n",
              "<style scoped>\n",
              "    .dataframe tbody tr th:only-of-type {\n",
              "        vertical-align: middle;\n",
              "    }\n",
              "\n",
              "    .dataframe tbody tr th {\n",
              "        vertical-align: top;\n",
              "    }\n",
              "\n",
              "    .dataframe thead th {\n",
              "        text-align: right;\n",
              "    }\n",
              "</style>\n",
              "<table border=\"1\" class=\"dataframe\">\n",
              "  <thead>\n",
              "    <tr style=\"text-align: right;\">\n",
              "      <th></th>\n",
              "      <th>Consumer complaint narrative</th>\n",
              "      <th>Product</th>\n",
              "    </tr>\n",
              "  </thead>\n",
              "  <tbody>\n",
              "    <tr>\n",
              "      <th>0</th>\n",
              "      <td>I have outdated information on my credit repor...</td>\n",
              "      <td>Credit reporting</td>\n",
              "    </tr>\n",
              "    <tr>\n",
              "      <th>1</th>\n",
              "      <td>I purchased a new car on XXXX XXXX. The car de...</td>\n",
              "      <td>Consumer Loan</td>\n",
              "    </tr>\n",
              "    <tr>\n",
              "      <th>2</th>\n",
              "      <td>An account on my credit report has a mistaken ...</td>\n",
              "      <td>Credit reporting</td>\n",
              "    </tr>\n",
              "    <tr>\n",
              "      <th>3</th>\n",
              "      <td>This company refuses to provide me verificatio...</td>\n",
              "      <td>Debt collection</td>\n",
              "    </tr>\n",
              "    <tr>\n",
              "      <th>4</th>\n",
              "      <td>This complaint is in regards to Square Two Fin...</td>\n",
              "      <td>Debt collection</td>\n",
              "    </tr>\n",
              "  </tbody>\n",
              "</table>\n",
              "</div>\n",
              "      <button class=\"colab-df-convert\" onclick=\"convertToInteractive('df-59dc610e-d2c2-4dbb-affe-a60eb7c2fbc0')\"\n",
              "              title=\"Convert this dataframe to an interactive table.\"\n",
              "              style=\"display:none;\">\n",
              "        \n",
              "  <svg xmlns=\"http://www.w3.org/2000/svg\" height=\"24px\"viewBox=\"0 0 24 24\"\n",
              "       width=\"24px\">\n",
              "    <path d=\"M0 0h24v24H0V0z\" fill=\"none\"/>\n",
              "    <path d=\"M18.56 5.44l.94 2.06.94-2.06 2.06-.94-2.06-.94-.94-2.06-.94 2.06-2.06.94zm-11 1L8.5 8.5l.94-2.06 2.06-.94-2.06-.94L8.5 2.5l-.94 2.06-2.06.94zm10 10l.94 2.06.94-2.06 2.06-.94-2.06-.94-.94-2.06-.94 2.06-2.06.94z\"/><path d=\"M17.41 7.96l-1.37-1.37c-.4-.4-.92-.59-1.43-.59-.52 0-1.04.2-1.43.59L10.3 9.45l-7.72 7.72c-.78.78-.78 2.05 0 2.83L4 21.41c.39.39.9.59 1.41.59.51 0 1.02-.2 1.41-.59l7.78-7.78 2.81-2.81c.8-.78.8-2.07 0-2.86zM5.41 20L4 18.59l7.72-7.72 1.47 1.35L5.41 20z\"/>\n",
              "  </svg>\n",
              "      </button>\n",
              "      \n",
              "  <style>\n",
              "    .colab-df-container {\n",
              "      display:flex;\n",
              "      flex-wrap:wrap;\n",
              "      gap: 12px;\n",
              "    }\n",
              "\n",
              "    .colab-df-convert {\n",
              "      background-color: #E8F0FE;\n",
              "      border: none;\n",
              "      border-radius: 50%;\n",
              "      cursor: pointer;\n",
              "      display: none;\n",
              "      fill: #1967D2;\n",
              "      height: 32px;\n",
              "      padding: 0 0 0 0;\n",
              "      width: 32px;\n",
              "    }\n",
              "\n",
              "    .colab-df-convert:hover {\n",
              "      background-color: #E2EBFA;\n",
              "      box-shadow: 0px 1px 2px rgba(60, 64, 67, 0.3), 0px 1px 3px 1px rgba(60, 64, 67, 0.15);\n",
              "      fill: #174EA6;\n",
              "    }\n",
              "\n",
              "    [theme=dark] .colab-df-convert {\n",
              "      background-color: #3B4455;\n",
              "      fill: #D2E3FC;\n",
              "    }\n",
              "\n",
              "    [theme=dark] .colab-df-convert:hover {\n",
              "      background-color: #434B5C;\n",
              "      box-shadow: 0px 1px 3px 1px rgba(0, 0, 0, 0.15);\n",
              "      filter: drop-shadow(0px 1px 2px rgba(0, 0, 0, 0.3));\n",
              "      fill: #FFFFFF;\n",
              "    }\n",
              "  </style>\n",
              "\n",
              "      <script>\n",
              "        const buttonEl =\n",
              "          document.querySelector('#df-59dc610e-d2c2-4dbb-affe-a60eb7c2fbc0 button.colab-df-convert');\n",
              "        buttonEl.style.display =\n",
              "          google.colab.kernel.accessAllowed ? 'block' : 'none';\n",
              "\n",
              "        async function convertToInteractive(key) {\n",
              "          const element = document.querySelector('#df-59dc610e-d2c2-4dbb-affe-a60eb7c2fbc0');\n",
              "          const dataTable =\n",
              "            await google.colab.kernel.invokeFunction('convertToInteractive',\n",
              "                                                     [key], {});\n",
              "          if (!dataTable) return;\n",
              "\n",
              "          const docLinkHtml = 'Like what you see? Visit the ' +\n",
              "            '<a target=\"_blank\" href=https://colab.research.google.com/notebooks/data_table.ipynb>data table notebook</a>'\n",
              "            + ' to learn more about interactive tables.';\n",
              "          element.innerHTML = '';\n",
              "          dataTable['output_type'] = 'display_data';\n",
              "          await google.colab.output.renderOutput(dataTable, element);\n",
              "          const docLink = document.createElement('div');\n",
              "          docLink.innerHTML = docLinkHtml;\n",
              "          element.appendChild(docLink);\n",
              "        }\n",
              "      </script>\n",
              "    </div>\n",
              "  </div>\n",
              "  "
            ],
            "text/plain": [
              "                        Consumer complaint narrative           Product\n",
              "0  I have outdated information on my credit repor...  Credit reporting\n",
              "1  I purchased a new car on XXXX XXXX. The car de...     Consumer Loan\n",
              "2  An account on my credit report has a mistaken ...  Credit reporting\n",
              "3  This company refuses to provide me verificatio...   Debt collection\n",
              "4  This complaint is in regards to Square Two Fin...   Debt collection"
            ]
          },
          "metadata": {},
          "execution_count": 5
        }
      ]
    },
    {
      "cell_type": "code",
      "source": [
        "df['Consumer complaint narrative'][0]"
      ],
      "metadata": {
        "colab": {
          "base_uri": "https://localhost:8080/",
          "height": 53
        },
        "id": "WVlrUsJs1kch",
        "outputId": "82294780-caa8-40f4-8d9d-afc4b128a0b8"
      },
      "execution_count": 6,
      "outputs": [
        {
          "output_type": "execute_result",
          "data": {
            "application/vnd.google.colaboratory.intrinsic+json": {
              "type": "string"
            },
            "text/plain": [
              "'I have outdated information on my credit report that I have previously disputed that has yet to be removed this information is more then seven years old and does not meet credit reporting requirements'"
            ]
          },
          "metadata": {},
          "execution_count": 6
        }
      ]
    },
    {
      "cell_type": "code",
      "source": [
        "print(df.Product.unique())"
      ],
      "metadata": {
        "colab": {
          "base_uri": "https://localhost:8080/"
        },
        "id": "5KZ6s3NJ2Nmj",
        "outputId": "51c918f2-6271-4cbe-c11a-de6f6eaa0815"
      },
      "execution_count": 10,
      "outputs": [
        {
          "output_type": "stream",
          "name": "stdout",
          "text": [
            "['Credit reporting' 'Consumer Loan' 'Debt collection' 'Mortgage'\n",
            " 'Credit card' 'Other financial service' 'Bank account or service'\n",
            " 'Student loan' 'Money transfers' 'Payday loan' 'Prepaid card'\n",
            " 'Virtual currency'\n",
            " 'Credit reporting, credit repair services, or other personal consumer reports'\n",
            " 'Credit card or prepaid card' 'Checking or savings account'\n",
            " 'Payday loan, title loan, or personal loan'\n",
            " 'Money transfer, virtual currency, or money service'\n",
            " 'Vehicle loan or lease']\n"
          ]
        }
      ]
    },
    {
      "cell_type": "code",
      "source": [
        "X_train, X_test, y_train, y_test = train_test_split(df['Consumer complaint narrative'].values, df['Product'].values, test_size=0.15, random_state=101)"
      ],
      "metadata": {
        "id": "LEgRiRCT2ayD"
      },
      "execution_count": 11,
      "outputs": []
    },
    {
      "cell_type": "code",
      "source": [
        "print('Training utterances: {}'.format(X_train.shape[0]))\n",
        "print('Validation utterances: {}'.format(X_test.shape[0]))"
      ],
      "metadata": {
        "colab": {
          "base_uri": "https://localhost:8080/"
        },
        "id": "YC-qcIFG3mte",
        "outputId": "fa6f104b-e5a9-447b-f21c-34707d3d2fb2"
      },
      "execution_count": 12,
      "outputs": [
        {
          "output_type": "stream",
          "name": "stdout",
          "text": [
            "Training utterances: 152809\n",
            "Validation utterances: 26967\n"
          ]
        }
      ]
    },
    {
      "cell_type": "markdown",
      "source": [
        "Calculating tf-idf scores\n",
        "Calculating tf-idf scores for each unique token in the dataset and creating frequency chart for each utterance in the dataset."
      ],
      "metadata": {
        "id": "vrLe9HLc3wbD"
      }
    },
    {
      "cell_type": "code",
      "source": [
        "vectorizer = TfidfVectorizer()\n",
        "vectorizer.fit(X_train)"
      ],
      "metadata": {
        "colab": {
          "base_uri": "https://localhost:8080/"
        },
        "id": "geFzNoVe3pyV",
        "outputId": "a89d8a4b-ae83-4237-a35a-8e15e90e0c20"
      },
      "execution_count": 13,
      "outputs": [
        {
          "output_type": "execute_result",
          "data": {
            "text/plain": [
              "TfidfVectorizer()"
            ]
          },
          "metadata": {},
          "execution_count": 13
        }
      ]
    },
    {
      "cell_type": "code",
      "source": [
        "X_train = vectorizer.transform(X_train)\n",
        "X_test = vectorizer.transform(X_test)\n",
        "X_train, X_test"
      ],
      "metadata": {
        "colab": {
          "base_uri": "https://localhost:8080/"
        },
        "id": "7RVWGqaI3-t1",
        "outputId": "d70a58a0-503d-4b90-ab24-62c5ba8dde4b"
      },
      "execution_count": 14,
      "outputs": [
        {
          "output_type": "execute_result",
          "data": {
            "text/plain": [
              "(<152809x76451 sparse matrix of type '<class 'numpy.float64'>'\n",
              " \twith 13867648 stored elements in Compressed Sparse Row format>,\n",
              " <26967x76451 sparse matrix of type '<class 'numpy.float64'>'\n",
              " \twith 2445087 stored elements in Compressed Sparse Row format>)"
            ]
          },
          "metadata": {},
          "execution_count": 14
        }
      ]
    },
    {
      "cell_type": "markdown",
      "source": [
        "Naive Bayes"
      ],
      "metadata": {
        "id": "xUG1sby_4jRd"
      }
    },
    {
      "cell_type": "code",
      "source": [
        "from sklearn.naive_bayes import MultinomialNB\n",
        "from sklearn.metrics import accuracy_score\n",
        "clf = MultinomialNB()\n",
        "clf.fit(X_train, y_train)\n",
        "pred = clf.predict(X_test)\n",
        "print(accuracy_score(y_test, pred))"
      ],
      "metadata": {
        "colab": {
          "base_uri": "https://localhost:8080/"
        },
        "id": "S48fKeZF4cNQ",
        "outputId": "4fa1af17-1929-4d2b-edbf-7bfb4fe33c8d"
      },
      "execution_count": 15,
      "outputs": [
        {
          "output_type": "stream",
          "name": "stdout",
          "text": [
            "0.6850224348277525\n"
          ]
        }
      ]
    },
    {
      "cell_type": "code",
      "source": [
        "from sklearn.feature_selection import SelectKBest, chi2\n",
        "\n",
        "ch2 = SelectKBest(chi2, k=5000)\n",
        "\n",
        "X_train = ch2.fit_transform(X_train, y_train)\n",
        "X_test = ch2.transform(X_test)\n",
        "\n",
        "X_train, X_test"
      ],
      "metadata": {
        "colab": {
          "base_uri": "https://localhost:8080/"
        },
        "id": "5Pq6Rgmm5kik",
        "outputId": "49dc5be1-013d-4b25-ec6c-d84ed5ed8356"
      },
      "execution_count": 18,
      "outputs": [
        {
          "output_type": "execute_result",
          "data": {
            "text/plain": [
              "(<152809x5000 sparse matrix of type '<class 'numpy.float64'>'\n",
              " \twith 10756825 stored elements in Compressed Sparse Row format>,\n",
              " <26967x5000 sparse matrix of type '<class 'numpy.float64'>'\n",
              " \twith 1899873 stored elements in Compressed Sparse Row format>)"
            ]
          },
          "metadata": {},
          "execution_count": 18
        }
      ]
    },
    {
      "cell_type": "code",
      "source": [
        "from sklearn.naive_bayes import MultinomialNB\n",
        "from sklearn.metrics import accuracy_score\n",
        "\n",
        "clf=MultinomialNB()\n",
        "clf.fit(X_train,y_train)\n",
        "pred=clf.predict(X_test)\n",
        "\n",
        "print(accuracy_score(y_test,pred))"
      ],
      "metadata": {
        "colab": {
          "base_uri": "https://localhost:8080/"
        },
        "id": "yE2LRVle6EGc",
        "outputId": "1c835fb1-2e79-466a-eed1-be2044876374"
      },
      "execution_count": 20,
      "outputs": [
        {
          "output_type": "stream",
          "name": "stdout",
          "text": [
            "0.7674936032929136\n"
          ]
        }
      ]
    },
    {
      "cell_type": "markdown",
      "source": [
        "Pre-processing on the dataset:"
      ],
      "metadata": {
        "id": "AkSKmEty7f72"
      }
    },
    {
      "cell_type": "code",
      "source": [
        "from nltk import word_tokenize"
      ],
      "metadata": {
        "id": "y-ls4Pwg7Sfq"
      },
      "execution_count": 21,
      "outputs": []
    },
    {
      "cell_type": "code",
      "source": [
        "import nltk\n",
        "nltk.download('punkt')"
      ],
      "metadata": {
        "colab": {
          "base_uri": "https://localhost:8080/"
        },
        "id": "ZfMokltw9F77",
        "outputId": "f58749c0-b596-4e0d-dcbf-e43be65ae87a"
      },
      "execution_count": 22,
      "outputs": [
        {
          "output_type": "stream",
          "name": "stdout",
          "text": [
            "[nltk_data] Downloading package punkt to /root/nltk_data...\n",
            "[nltk_data]   Unzipping tokenizers/punkt.zip.\n"
          ]
        },
        {
          "output_type": "execute_result",
          "data": {
            "text/plain": [
              "True"
            ]
          },
          "metadata": {},
          "execution_count": 22
        }
      ]
    },
    {
      "cell_type": "markdown",
      "source": [
        "# Split the words"
      ],
      "metadata": {
        "id": "zI20frmP9SDh"
      }
    },
    {
      "cell_type": "code",
      "source": [
        "# We use word_tokenize to make sure words are split properly. Eg : don't , 3.14 etc\n",
        "from tqdm import tqdm\n",
        "data = df['Consumer complaint narrative'].values[0:1000]\n",
        "tokenized = [word_tokenize(value) for value in data]\n",
        "del data\n",
        "tokenized[0]"
      ],
      "metadata": {
        "colab": {
          "base_uri": "https://localhost:8080/"
        },
        "id": "JChgQekf9GjG",
        "outputId": "3d4bff11-c001-4adc-ee9b-356f86a6c877"
      },
      "execution_count": 28,
      "outputs": [
        {
          "output_type": "execute_result",
          "data": {
            "text/plain": [
              "['I',\n",
              " 'have',\n",
              " 'outdated',\n",
              " 'information',\n",
              " 'on',\n",
              " 'my',\n",
              " 'credit',\n",
              " 'report',\n",
              " 'that',\n",
              " 'I',\n",
              " 'have',\n",
              " 'previously',\n",
              " 'disputed',\n",
              " 'that',\n",
              " 'has',\n",
              " 'yet',\n",
              " 'to',\n",
              " 'be',\n",
              " 'removed',\n",
              " 'this',\n",
              " 'information',\n",
              " 'is',\n",
              " 'more',\n",
              " 'then',\n",
              " 'seven',\n",
              " 'years',\n",
              " 'old',\n",
              " 'and',\n",
              " 'does',\n",
              " 'not',\n",
              " 'meet',\n",
              " 'credit',\n",
              " 'reporting',\n",
              " 'requirements']"
            ]
          },
          "metadata": {},
          "execution_count": 28
        }
      ]
    },
    {
      "cell_type": "code",
      "source": [
        "#squares = []\n",
        "# squares = [x**2 for x in range(10)]\n",
        "    \n",
        "# print(squares)\n",
        "# [0, 1, 4, 9, 16, 25, 36, 49, 64, 81]"
      ],
      "metadata": {
        "colab": {
          "base_uri": "https://localhost:8080/"
        },
        "id": "trK4Lkxx-r_T",
        "outputId": "098a6cee-ba22-410e-a0ee-57e3f653489e"
      },
      "execution_count": 27,
      "outputs": [
        {
          "output_type": "stream",
          "name": "stdout",
          "text": [
            "[0, 1, 4, 9, 16, 25, 36, 49, 64, 81]\n"
          ]
        }
      ]
    },
    {
      "cell_type": "code",
      "source": [
        "lower = [[word.lower() for word in tokens]for tokens in tokenized]\n",
        "lower[0]"
      ],
      "metadata": {
        "colab": {
          "base_uri": "https://localhost:8080/"
        },
        "id": "dSs9wsfY-s5R",
        "outputId": "d132db44-4967-41ca-e98c-22e953ea4130"
      },
      "execution_count": 29,
      "outputs": [
        {
          "output_type": "execute_result",
          "data": {
            "text/plain": [
              "['i',\n",
              " 'have',\n",
              " 'outdated',\n",
              " 'information',\n",
              " 'on',\n",
              " 'my',\n",
              " 'credit',\n",
              " 'report',\n",
              " 'that',\n",
              " 'i',\n",
              " 'have',\n",
              " 'previously',\n",
              " 'disputed',\n",
              " 'that',\n",
              " 'has',\n",
              " 'yet',\n",
              " 'to',\n",
              " 'be',\n",
              " 'removed',\n",
              " 'this',\n",
              " 'information',\n",
              " 'is',\n",
              " 'more',\n",
              " 'then',\n",
              " 'seven',\n",
              " 'years',\n",
              " 'old',\n",
              " 'and',\n",
              " 'does',\n",
              " 'not',\n",
              " 'meet',\n",
              " 'credit',\n",
              " 'reporting',\n",
              " 'requirements']"
            ]
          },
          "metadata": {},
          "execution_count": 29
        }
      ]
    },
    {
      "cell_type": "code",
      "source": [
        "lower=[' '.join(text) for text in lower]\n",
        "lower[0]\n"
      ],
      "metadata": {
        "colab": {
          "base_uri": "https://localhost:8080/",
          "height": 53
        },
        "id": "v4OayHilALWu",
        "outputId": "08f82ade-575a-43ec-c938-0425fb0c1823"
      },
      "execution_count": 30,
      "outputs": [
        {
          "output_type": "execute_result",
          "data": {
            "application/vnd.google.colaboratory.intrinsic+json": {
              "type": "string"
            },
            "text/plain": [
              "'i have outdated information on my credit report that i have previously disputed that has yet to be removed this information is more then seven years old and does not meet credit reporting requirements'"
            ]
          },
          "metadata": {},
          "execution_count": 30
        }
      ]
    },
    {
      "cell_type": "code",
      "source": [
        "import string\n",
        "string.punctuation"
      ],
      "metadata": {
        "colab": {
          "base_uri": "https://localhost:8080/",
          "height": 35
        },
        "id": "biHahmtjAO3y",
        "outputId": "ad29a540-7706-4baa-84bf-cbd8f47f76b8"
      },
      "execution_count": 31,
      "outputs": [
        {
          "output_type": "execute_result",
          "data": {
            "application/vnd.google.colaboratory.intrinsic+json": {
              "type": "string"
            },
            "text/plain": [
              "'!\"#$%&\\'()*+,-./:;<=>?@[\\\\]^_`{|}~'"
            ]
          },
          "metadata": {},
          "execution_count": 31
        }
      ]
    },
    {
      "cell_type": "code",
      "source": [
        "# Remove punctuations\n",
        "import string\n",
        "punctuations_removed=[text.translate(str.maketrans('','',string.punctuation)) for text in lower]\n",
        "punctuations_removed[0]"
      ],
      "metadata": {
        "colab": {
          "base_uri": "https://localhost:8080/",
          "height": 53
        },
        "id": "FbYa8o8sAWLl",
        "outputId": "c6efa8e4-341c-4dec-c36e-840cfb9a25ad"
      },
      "execution_count": 32,
      "outputs": [
        {
          "output_type": "execute_result",
          "data": {
            "application/vnd.google.colaboratory.intrinsic+json": {
              "type": "string"
            },
            "text/plain": [
              "'i have outdated information on my credit report that i have previously disputed that has yet to be removed this information is more then seven years old and does not meet credit reporting requirements'"
            ]
          },
          "metadata": {},
          "execution_count": 32
        }
      ]
    },
    {
      "cell_type": "code",
      "source": [
        "'i have outdated information on my credit report that i have previously disputed that has yet to be removed this information is more then seven years old and does not meet credit reporting requirements'\n",
        "# removing stopwords\n",
        "nltk.download('stopwords')\n",
        "from nltk.corpus import stopwords\n",
        "stopwords=stopwords.words('english')\n",
        "cleaned=[[word for word in sentence.split(' ') if word not in stopwords] for sentence in punctuations_removed]"
      ],
      "metadata": {
        "colab": {
          "base_uri": "https://localhost:8080/"
        },
        "id": "34uIqmmCAbrO",
        "outputId": "b924ac9d-b775-45d0-addf-9b807ab9c658"
      },
      "execution_count": 33,
      "outputs": [
        {
          "output_type": "stream",
          "name": "stdout",
          "text": [
            "[nltk_data] Downloading package stopwords to /root/nltk_data...\n",
            "[nltk_data]   Unzipping corpora/stopwords.zip.\n"
          ]
        }
      ]
    },
    {
      "cell_type": "code",
      "source": [
        "cleaned[0]"
      ],
      "metadata": {
        "colab": {
          "base_uri": "https://localhost:8080/"
        },
        "id": "XGdyXwQRJpts",
        "outputId": "c22551b9-5cae-47ba-9c09-ca04ee5244d0"
      },
      "execution_count": 34,
      "outputs": [
        {
          "output_type": "execute_result",
          "data": {
            "text/plain": [
              "['outdated',\n",
              " 'information',\n",
              " 'credit',\n",
              " 'report',\n",
              " 'previously',\n",
              " 'disputed',\n",
              " 'yet',\n",
              " 'removed',\n",
              " 'information',\n",
              " 'seven',\n",
              " 'years',\n",
              " 'old',\n",
              " 'meet',\n",
              " 'credit',\n",
              " 'reporting',\n",
              " 'requirements']"
            ]
          },
          "metadata": {},
          "execution_count": 34
        }
      ]
    },
    {
      "cell_type": "code",
      "source": [
        "# Stemming\n",
        "from nltk.stem import PorterStemmer\n",
        "stemmer=PorterStemmer()\n",
        "stemmer.stem('basically')"
      ],
      "metadata": {
        "colab": {
          "base_uri": "https://localhost:8080/",
          "height": 35
        },
        "id": "plNzjgsFJtrN",
        "outputId": "395952b0-ad96-483c-f608-60299227504c"
      },
      "execution_count": 35,
      "outputs": [
        {
          "output_type": "execute_result",
          "data": {
            "application/vnd.google.colaboratory.intrinsic+json": {
              "type": "string"
            },
            "text/plain": [
              "'basic'"
            ]
          },
          "metadata": {},
          "execution_count": 35
        }
      ]
    },
    {
      "cell_type": "code",
      "source": [
        "stemmed=[[stemmer.stem(word) for word in sentence] for sentence in cleaned]"
      ],
      "metadata": {
        "id": "9RtOpTGWJy02"
      },
      "execution_count": 36,
      "outputs": []
    },
    {
      "cell_type": "code",
      "source": [
        "stemmed[0]"
      ],
      "metadata": {
        "colab": {
          "base_uri": "https://localhost:8080/"
        },
        "id": "D_Uz-gf4J2KV",
        "outputId": "3870206d-26fd-4c2b-8a8f-8ea9959f1f83"
      },
      "execution_count": 37,
      "outputs": [
        {
          "output_type": "execute_result",
          "data": {
            "text/plain": [
              "['outdat',\n",
              " 'inform',\n",
              " 'credit',\n",
              " 'report',\n",
              " 'previous',\n",
              " 'disput',\n",
              " 'yet',\n",
              " 'remov',\n",
              " 'inform',\n",
              " 'seven',\n",
              " 'year',\n",
              " 'old',\n",
              " 'meet',\n",
              " 'credit',\n",
              " 'report',\n",
              " 'requir']"
            ]
          },
          "metadata": {},
          "execution_count": 37
        }
      ]
    },
    {
      "cell_type": "code",
      "source": [
        "l=['a','b','c','a']\n",
        "list(set(l))"
      ],
      "metadata": {
        "colab": {
          "base_uri": "https://localhost:8080/"
        },
        "id": "0tQ_gD05J4ze",
        "outputId": "19e8724a-6dec-4af7-ee73-1b1a7f9ee738"
      },
      "execution_count": 38,
      "outputs": [
        {
          "output_type": "execute_result",
          "data": {
            "text/plain": [
              "['b', 'c', 'a']"
            ]
          },
          "metadata": {},
          "execution_count": 38
        }
      ]
    },
    {
      "cell_type": "code",
      "source": [
        "# Create a BOW\n",
        "vocab=[]\n",
        "for sentence in stemmed:\n",
        "  temp=list(set(sentence))\n",
        "  vocab+=temp\n",
        "  vocab=list(set(vocab))"
      ],
      "metadata": {
        "id": "h0gPwWsHJ81x"
      },
      "execution_count": 39,
      "outputs": []
    },
    {
      "cell_type": "code",
      "source": [
        "len(vocab)"
      ],
      "metadata": {
        "colab": {
          "base_uri": "https://localhost:8080/"
        },
        "id": "p1j3HKbEKHaS",
        "outputId": "f0465f4e-f306-404e-9bb7-f4958a714846"
      },
      "execution_count": 40,
      "outputs": [
        {
          "output_type": "execute_result",
          "data": {
            "text/plain": [
              "5122"
            ]
          },
          "metadata": {},
          "execution_count": 40
        }
      ]
    },
    {
      "cell_type": "code",
      "source": [
        "# Create Index Map\n",
        "map={word:idx for idx,word in enumerate(vocab)}"
      ],
      "metadata": {
        "id": "fbMI0ASLKLBE"
      },
      "execution_count": 41,
      "outputs": []
    },
    {
      "cell_type": "code",
      "source": [
        "freq={word:0 for word in vocab}"
      ],
      "metadata": {
        "id": "Nbun2p7MKOkk"
      },
      "execution_count": 42,
      "outputs": []
    },
    {
      "cell_type": "code",
      "source": [
        "map['placement']"
      ],
      "metadata": {
        "colab": {
          "base_uri": "https://localhost:8080/"
        },
        "id": "dOkvf2ndKTiJ",
        "outputId": "e0ae1473-cd6d-45b2-97be-6eddaea9d065"
      },
      "execution_count": 43,
      "outputs": [
        {
          "output_type": "execute_result",
          "data": {
            "text/plain": [
              "2653"
            ]
          },
          "metadata": {},
          "execution_count": 43
        }
      ]
    },
    {
      "cell_type": "code",
      "source": [
        "# BOW feature\n",
        "\n",
        "for sentence in stemmed:\n",
        "  for word in sentence:\n",
        "    try:\n",
        "      freq[word]+=1\n",
        "    except:\n",
        "      pass"
      ],
      "metadata": {
        "id": "2A5FoYrOKXo0"
      },
      "execution_count": 44,
      "outputs": []
    },
    {
      "cell_type": "markdown",
      "source": [
        "Feature Selection\n",
        "Chi-square test measures dependence between stochastic variables, so using this function “weeds out” the features that are the most likely to be independent of class and therefore irrelevant for classification."
      ],
      "metadata": {
        "id": "k7-taBq7KfNf"
      }
    },
    {
      "cell_type": "code",
      "source": [
        "from sklearn.feature_selection import SelectKBest, chi2\n",
        "\n",
        "ch2 = SelectKBest(chi2, k=5000)\n",
        "X_train = ch2.fit_transform(X_train, y_train)\n",
        "X_test = ch2.transform(X_test)\n",
        "\n",
        "X_train, X_test"
      ],
      "metadata": {
        "colab": {
          "base_uri": "https://localhost:8080/"
        },
        "id": "mR9MCy_6KagA",
        "outputId": "5f5efa99-a824-4b3c-94e8-7e6d4fb02124"
      },
      "execution_count": 45,
      "outputs": [
        {
          "output_type": "execute_result",
          "data": {
            "text/plain": [
              "(<152809x5000 sparse matrix of type '<class 'numpy.float64'>'\n",
              " \twith 10756825 stored elements in Compressed Sparse Row format>,\n",
              " <26967x5000 sparse matrix of type '<class 'numpy.float64'>'\n",
              " \twith 1899873 stored elements in Compressed Sparse Row format>)"
            ]
          },
          "metadata": {},
          "execution_count": 45
        }
      ]
    },
    {
      "cell_type": "code",
      "source": [
        ""
      ],
      "metadata": {
        "id": "HmhKxz2nKjRi"
      },
      "execution_count": null,
      "outputs": []
    }
  ]
}